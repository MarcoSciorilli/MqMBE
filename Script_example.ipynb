{
 "cells": [
  {
   "cell_type": "code",
   "execution_count": 1,
   "outputs": [
    {
     "name": "stderr",
     "output_type": "stream",
     "text": [
      "[Qibo 0.1.7|INFO|2022-07-13 12:17:24]: Using tensorflow backend on /device:CPU:0\n",
      "[Qibo 0.1.7|WARNING|2022-07-13 12:17:24]: qibotf library was not found. `tf.einsum` will be used to apply gates. In order to install Qibo's high performance custom operators for TensorFlow please use `pip install qibotf`. Alternatively, consider installing the qibojit backend.\n",
      "[Qibo 0.1.7|INFO|2022-07-13 12:17:25]: Using numpy backend on /CPU:0\n"
     ]
    }
   ],
   "source": [
    "import mqMBE as vq\n",
    "import numpy as np\n",
    "import networkx as nx\n",
    "from time import time\n",
    "vq.dataretriver.qibo.set_backend(\"numpy\")"
   ],
   "metadata": {
    "collapsed": false,
    "pycharm": {
     "name": "#%%\n"
    }
   }
  },
  {
   "cell_type": "markdown",
   "source": [
    "Initialize the database with the preferred name"
   ],
   "metadata": {
    "collapsed": false,
    "pycharm": {
     "name": "#%% md\n"
    }
   }
  },
  {
   "cell_type": "code",
   "execution_count": 4,
   "outputs": [
    {
     "ename": "OperationalError",
     "evalue": "table Test already exists",
     "output_type": "error",
     "traceback": [
      "\u001B[0;31m---------------------------------------------------------------------------\u001B[0m",
      "\u001B[0;31mOperationalError\u001B[0m                          Traceback (most recent call last)",
      "Input \u001B[0;32mIn [4]\u001B[0m, in \u001B[0;36m<cell line: 1>\u001B[0;34m()\u001B[0m\n\u001B[0;32m----> 1\u001B[0m \u001B[43mvq\u001B[49m\u001B[38;5;241;43m.\u001B[39;49m\u001B[43mdataretriver\u001B[49m\u001B[38;5;241;43m.\u001B[39;49m\u001B[43mBenchmarker\u001B[49m\u001B[38;5;241;43m.\u001B[39;49m\u001B[43minitialize_database\u001B[49m\u001B[43m(\u001B[49m\u001B[38;5;124;43m'\u001B[39;49m\u001B[38;5;124;43mTest\u001B[39;49m\u001B[38;5;124;43m'\u001B[39;49m\u001B[43m)\u001B[49m\n",
      "File \u001B[0;32m~/Desktop/MqMBEop/MqMBE/mqMBE/dataretriver.py:437\u001B[0m, in \u001B[0;36mBenchmarker.initialize_database\u001B[0;34m(name_database)\u001B[0m\n\u001B[1;32m    433\u001B[0m unique \u001B[38;5;241m=\u001B[39m [\u001B[38;5;124m'\u001B[39m\u001B[38;5;124mkind\u001B[39m\u001B[38;5;124m'\u001B[39m, \u001B[38;5;124m'\u001B[39m\u001B[38;5;124minstance\u001B[39m\u001B[38;5;124m'\u001B[39m, \u001B[38;5;124m'\u001B[39m\u001B[38;5;124mlayer_number\u001B[39m\u001B[38;5;124m'\u001B[39m, \u001B[38;5;124m'\u001B[39m\u001B[38;5;124mnodes_number\u001B[39m\u001B[38;5;124m'\u001B[39m, \u001B[38;5;124m'\u001B[39m\u001B[38;5;124moptimization\u001B[39m\u001B[38;5;124m'\u001B[39m, \u001B[38;5;124m'\u001B[39m\u001B[38;5;124mcompression\u001B[39m\u001B[38;5;124m'\u001B[39m, \u001B[38;5;124m'\u001B[39m\u001B[38;5;124mhyperparameter\u001B[39m\u001B[38;5;124m'\u001B[39m,\n\u001B[1;32m    434\u001B[0m           \u001B[38;5;124m'\u001B[39m\u001B[38;5;124mpauli_string_length\u001B[39m\u001B[38;5;124m'\u001B[39m,\n\u001B[1;32m    435\u001B[0m           \u001B[38;5;124m'\u001B[39m\u001B[38;5;124mentanglement\u001B[39m\u001B[38;5;124m'\u001B[39m, \u001B[38;5;124m'\u001B[39m\u001B[38;5;124mgraph_kind\u001B[39m\u001B[38;5;124m'\u001B[39m, \u001B[38;5;124m'\u001B[39m\u001B[38;5;124mtrial\u001B[39m\u001B[38;5;124m'\u001B[39m, \u001B[38;5;124m'\u001B[39m\u001B[38;5;124mactivation_function\u001B[39m\u001B[38;5;124m'\u001B[39m]\n\u001B[1;32m    436\u001B[0m connect_database(name_database)\n\u001B[0;32m--> 437\u001B[0m \u001B[43mcreate_table\u001B[49m\u001B[43m(\u001B[49m\u001B[43mname_database\u001B[49m\u001B[43m,\u001B[49m\u001B[43m \u001B[49m\u001B[43mname_database\u001B[49m\u001B[43m,\u001B[49m\u001B[43m \u001B[49m\u001B[43mrows\u001B[49m\u001B[43m,\u001B[49m\u001B[43m \u001B[49m\u001B[43munique\u001B[49m\u001B[43m)\u001B[49m\n",
      "File \u001B[0;32m~/Desktop/MqMBEop/MqMBE/mqMBE/datamanager.py:12\u001B[0m, in \u001B[0;36mcreate_table\u001B[0;34m(name_database, name_table, rows, unique)\u001B[0m\n\u001B[1;32m     10\u001B[0m string_creation \u001B[38;5;241m=\u001B[39m create_table_string(name_table, rows, unique)\n\u001B[1;32m     11\u001B[0m cursor \u001B[38;5;241m=\u001B[39m connection\u001B[38;5;241m.\u001B[39mcursor()\n\u001B[0;32m---> 12\u001B[0m \u001B[43mcursor\u001B[49m\u001B[38;5;241;43m.\u001B[39;49m\u001B[43mexecute\u001B[49m\u001B[43m(\u001B[49m\u001B[43mstring_creation\u001B[49m\u001B[43m)\u001B[49m\n\u001B[1;32m     13\u001B[0m cursor\u001B[38;5;241m.\u001B[39mclose()\n",
      "\u001B[0;31mOperationalError\u001B[0m: table Test already exists"
     ]
    }
   ],
   "source": [
    "vq.dataretriver.Benchmarker.initialize_database('Test')"
   ],
   "metadata": {
    "collapsed": false,
    "pycharm": {
     "name": "#%%\n"
    }
   }
  },
  {
   "cell_type": "markdown",
   "source": [
    "Import the graph to cut and choose a seed"
   ],
   "metadata": {
    "collapsed": false,
    "pycharm": {
     "name": "#%% md\n"
    }
   }
  },
  {
   "cell_type": "code",
   "execution_count": 2,
   "outputs": [],
   "source": [
    "graph = nx.read_weighted_edgelist('w09_100.0')\n",
    "seed = 1"
   ],
   "metadata": {
    "collapsed": false,
    "pycharm": {
     "name": "#%%\n"
    }
   }
  },
  {
   "cell_type": "markdown",
   "source": [
    "Fix the given seed, and get the result of the cut using the BURER2002 method"
   ],
   "metadata": {
    "collapsed": false,
    "pycharm": {
     "name": "#%% md\n"
    }
   }
  },
  {
   "cell_type": "code",
   "execution_count": 3,
   "outputs": [],
   "source": [
    "np.random.seed(seed)\n",
    "result_exact = vq.dataretriver.Benchmarker._get_exact_solution(seed, graph)"
   ],
   "metadata": {
    "collapsed": false,
    "pycharm": {
     "name": "#%%\n"
    }
   }
  },
  {
   "cell_type": "markdown",
   "source": [
    "Get the adjacency matrix of the graph, and its maximum eigenvalue"
   ],
   "metadata": {
    "collapsed": false,
    "pycharm": {
     "name": "#%% md\n"
    }
   }
  },
  {
   "cell_type": "code",
   "execution_count": 4,
   "outputs": [],
   "source": [
    "adjacency_matrix, max_eigenvalue = vq.dataretriver.Benchmarker._graph_to_dict(graph)"
   ],
   "metadata": {
    "collapsed": false,
    "pycharm": {
     "name": "#%%\n"
    }
   }
  },
  {
   "cell_type": "markdown",
   "source": [
    "Fix the circuit, given the type of entanglement, the number of qubits and layers"
   ],
   "metadata": {
    "collapsed": false,
    "pycharm": {
     "name": "#%% md\n"
    }
   }
  },
  {
   "cell_type": "code",
   "execution_count": 5,
   "outputs": [],
   "source": [
    "qubits = 9\n",
    "layer = 4\n",
    "entanglement = 'rotating'\n",
    "circuit = vq.ansatz.var_form(qubits, layer, entanglement)"
   ],
   "metadata": {
    "collapsed": false,
    "pycharm": {
     "name": "#%%\n"
    }
   }
  },
  {
   "cell_type": "markdown",
   "source": [
    "Initialise the parameters for the VQA"
   ],
   "metadata": {
    "collapsed": false,
    "pycharm": {
     "name": "#%% md\n"
    }
   }
  },
  {
   "cell_type": "code",
   "execution_count": 6,
   "outputs": [],
   "source": [
    "initial_parameters = np.pi * np.random.uniform(-1, 1, len(circuit.get_parameters(format='flatlist')))"
   ],
   "metadata": {
    "collapsed": false,
    "pycharm": {
     "name": "#%%\n"
    }
   }
  },
  {
   "cell_type": "markdown",
   "source": [
    "Initialize the solver used to run the VQA"
   ],
   "metadata": {
    "collapsed": false,
    "pycharm": {
     "name": "#%% md\n"
    }
   }
  },
  {
   "cell_type": "code",
   "execution_count": 7,
   "outputs": [],
   "source": [
    "solver = vq.multibase.MultibaseVQA(circuit, adjacency_matrix, max_eigenvalue, hyperparameters=(1, 0.4))"
   ],
   "metadata": {
    "collapsed": false,
    "pycharm": {
     "name": "#%%\n"
    }
   }
  },
  {
   "cell_type": "markdown",
   "source": [
    "Given the number of nodes to encodes in the qubits, the given compression, and some flags regarding how to encode, do the encoding.\n",
    "By default, the observable used are the ones of the two body correlators of same pauli letter ( filling in order XX, YY and ZZ, to exhaustion).\n",
    "Possible parameters:\n",
    "* Compression: the compression rate used in the encoding, default is 2 (quadratic compression). A bigger compression will use increasingly many-body correlators to account for the extra compression (3 -> three bodies and so on).\n",
    "* lower_order_terms: whether or not use observables involving also less \"bodies\" in the correlators. For instance: whether or not use also the single-qubits observables when using the quadratic compression.\n",
    "* shuffle: whether or not assign the nodes to the observables in the order the observables are initialized, or at random.\n",
    "* same_letter : whether or not use only observables of the same pauli letter, or pick random multi-body correlators involving the right number of qubits given the compression (so, also cross-terms).\n",
    "* print_string: print the final set of pauli string used to encode the nodes of graph, in order of assigment ( 0 = Identity, 1 = X, 2 = Y, 3 = Z)\n"
   ],
   "metadata": {
    "collapsed": false,
    "pycharm": {
     "name": "#%% md\n"
    }
   }
  },
  {
   "cell_type": "code",
   "execution_count": 8,
   "outputs": [
    {
     "name": "stdout",
     "output_type": "stream",
     "text": [
      "[(1, 1, 0, 0, 0, 0, 0, 0, 0), (1, 0, 1, 0, 0, 0, 0, 0, 0), (1, 0, 0, 1, 0, 0, 0, 0, 0), (1, 0, 0, 0, 1, 0, 0, 0, 0), (1, 0, 0, 0, 0, 1, 0, 0, 0), (1, 0, 0, 0, 0, 0, 1, 0, 0), (1, 0, 0, 0, 0, 0, 0, 1, 0), (1, 0, 0, 0, 0, 0, 0, 0, 1), (0, 1, 1, 0, 0, 0, 0, 0, 0), (0, 1, 0, 1, 0, 0, 0, 0, 0), (0, 1, 0, 0, 1, 0, 0, 0, 0), (0, 1, 0, 0, 0, 1, 0, 0, 0), (0, 1, 0, 0, 0, 0, 1, 0, 0), (0, 1, 0, 0, 0, 0, 0, 1, 0), (0, 1, 0, 0, 0, 0, 0, 0, 1), (0, 0, 1, 1, 0, 0, 0, 0, 0), (0, 0, 1, 0, 1, 0, 0, 0, 0), (0, 0, 1, 0, 0, 1, 0, 0, 0), (0, 0, 1, 0, 0, 0, 1, 0, 0), (0, 0, 1, 0, 0, 0, 0, 1, 0), (0, 0, 1, 0, 0, 0, 0, 0, 1), (0, 0, 0, 1, 1, 0, 0, 0, 0), (0, 0, 0, 1, 0, 1, 0, 0, 0), (0, 0, 0, 1, 0, 0, 1, 0, 0), (0, 0, 0, 1, 0, 0, 0, 1, 0), (0, 0, 0, 1, 0, 0, 0, 0, 1), (0, 0, 0, 0, 1, 1, 0, 0, 0), (0, 0, 0, 0, 1, 0, 1, 0, 0), (0, 0, 0, 0, 1, 0, 0, 1, 0), (0, 0, 0, 0, 1, 0, 0, 0, 1), (0, 0, 0, 0, 0, 1, 1, 0, 0), (0, 0, 0, 0, 0, 1, 0, 1, 0), (0, 0, 0, 0, 0, 1, 0, 0, 1), (0, 0, 0, 0, 0, 0, 1, 1, 0), (0, 0, 0, 0, 0, 0, 1, 0, 1), (0, 0, 0, 0, 0, 0, 0, 1, 1), (2, 2, 0, 0, 0, 0, 0, 0, 0), (2, 0, 2, 0, 0, 0, 0, 0, 0), (2, 0, 0, 2, 0, 0, 0, 0, 0), (2, 0, 0, 0, 2, 0, 0, 0, 0), (2, 0, 0, 0, 0, 2, 0, 0, 0), (2, 0, 0, 0, 0, 0, 2, 0, 0), (2, 0, 0, 0, 0, 0, 0, 2, 0), (2, 0, 0, 0, 0, 0, 0, 0, 2), (0, 2, 2, 0, 0, 0, 0, 0, 0), (0, 2, 0, 2, 0, 0, 0, 0, 0), (0, 2, 0, 0, 2, 0, 0, 0, 0), (0, 2, 0, 0, 0, 2, 0, 0, 0), (0, 2, 0, 0, 0, 0, 2, 0, 0), (0, 2, 0, 0, 0, 0, 0, 2, 0), (0, 2, 0, 0, 0, 0, 0, 0, 2), (0, 0, 2, 2, 0, 0, 0, 0, 0), (0, 0, 2, 0, 2, 0, 0, 0, 0), (0, 0, 2, 0, 0, 2, 0, 0, 0), (0, 0, 2, 0, 0, 0, 2, 0, 0), (0, 0, 2, 0, 0, 0, 0, 2, 0), (0, 0, 2, 0, 0, 0, 0, 0, 2), (0, 0, 0, 2, 2, 0, 0, 0, 0), (0, 0, 0, 2, 0, 2, 0, 0, 0), (0, 0, 0, 2, 0, 0, 2, 0, 0), (0, 0, 0, 2, 0, 0, 0, 2, 0), (0, 0, 0, 2, 0, 0, 0, 0, 2), (0, 0, 0, 0, 2, 2, 0, 0, 0), (0, 0, 0, 0, 2, 0, 2, 0, 0), (0, 0, 0, 0, 2, 0, 0, 2, 0), (0, 0, 0, 0, 2, 0, 0, 0, 2), (0, 0, 0, 0, 0, 2, 2, 0, 0), (0, 0, 0, 0, 0, 2, 0, 2, 0), (0, 0, 0, 0, 0, 2, 0, 0, 2), (0, 0, 0, 0, 0, 0, 2, 2, 0), (0, 0, 0, 0, 0, 0, 2, 0, 2), (0, 0, 0, 0, 0, 0, 0, 2, 2), (3, 3, 0, 0, 0, 0, 0, 0, 0), (3, 0, 3, 0, 0, 0, 0, 0, 0), (3, 0, 0, 3, 0, 0, 0, 0, 0), (3, 0, 0, 0, 3, 0, 0, 0, 0), (3, 0, 0, 0, 0, 3, 0, 0, 0), (3, 0, 0, 0, 0, 0, 3, 0, 0), (3, 0, 0, 0, 0, 0, 0, 3, 0), (3, 0, 0, 0, 0, 0, 0, 0, 3), (0, 3, 3, 0, 0, 0, 0, 0, 0), (0, 3, 0, 3, 0, 0, 0, 0, 0), (0, 3, 0, 0, 3, 0, 0, 0, 0), (0, 3, 0, 0, 0, 3, 0, 0, 0), (0, 3, 0, 0, 0, 0, 3, 0, 0), (0, 3, 0, 0, 0, 0, 0, 3, 0), (0, 3, 0, 0, 0, 0, 0, 0, 3), (0, 0, 3, 3, 0, 0, 0, 0, 0), (0, 0, 3, 0, 3, 0, 0, 0, 0), (0, 0, 3, 0, 0, 3, 0, 0, 0), (0, 0, 3, 0, 0, 0, 3, 0, 0), (0, 0, 3, 0, 0, 0, 0, 3, 0), (0, 0, 3, 0, 0, 0, 0, 0, 3), (0, 0, 0, 3, 3, 0, 0, 0, 0), (0, 0, 0, 3, 0, 3, 0, 0, 0), (0, 0, 0, 3, 0, 0, 3, 0, 0), (0, 0, 0, 3, 0, 0, 0, 3, 0), (0, 0, 0, 3, 0, 0, 0, 0, 3), (0, 0, 0, 0, 3, 3, 0, 0, 0), (0, 0, 0, 0, 3, 0, 3, 0, 0), (0, 0, 0, 0, 3, 0, 0, 3, 0), (0, 0, 0, 0, 3, 0, 0, 0, 3), (0, 0, 0, 0, 0, 3, 3, 0, 0), (0, 0, 0, 0, 0, 3, 0, 3, 0), (0, 0, 0, 0, 0, 3, 0, 0, 3), (0, 0, 0, 0, 0, 0, 3, 3, 0), (0, 0, 0, 0, 0, 0, 3, 0, 3), (0, 0, 0, 0, 0, 0, 0, 3, 3)]\n"
     ]
    },
    {
     "data": {
      "text/plain": "1.0"
     },
     "execution_count": 8,
     "metadata": {},
     "output_type": "execute_result"
    }
   ],
   "source": [
    "nodes_number = 100\n",
    "compression = 2\n",
    "pauli_string_length = qubits\n",
    "solver.encode_nodes(nodes_number, pauli_string_length, compression=compression,lower_order_terms=False, shuffle=False, seed=seed, same_letter=True, print_strings=True)"
   ],
   "metadata": {
    "collapsed": false,
    "pycharm": {
     "name": "#%%\n"
    }
   }
  },
  {
   "cell_type": "markdown",
   "source": [
    "Set the activation function."
   ],
   "metadata": {
    "collapsed": false,
    "pycharm": {
     "name": "#%% md\n"
    }
   }
  },
  {
   "cell_type": "code",
   "execution_count": 45,
   "outputs": [],
   "source": [
    "solver.set_activation(np.tanh)"
   ],
   "metadata": {
    "collapsed": false,
    "pycharm": {
     "name": "#%%\n"
    }
   }
  },
  {
   "cell_type": "markdown",
   "source": [
    "Fix the bounds for the parameters of the circuit."
   ],
   "metadata": {
    "collapsed": false,
    "pycharm": {
     "name": "#%% md\n"
    }
   }
  },
  {
   "cell_type": "code",
   "execution_count": 46,
   "outputs": [],
   "source": [
    "bounds = [(-np.pi, np.pi) for i in range(len(initial_parameters))]\n",
    "cons = None"
   ],
   "metadata": {
    "collapsed": false,
    "pycharm": {
     "name": "#%%\n"
    }
   }
  },
  {
   "cell_type": "markdown",
   "source": [
    "Run the optimization"
   ],
   "metadata": {
    "collapsed": false,
    "pycharm": {
     "name": "#%% md\n"
    }
   }
  },
  {
   "cell_type": "code",
   "execution_count": 47,
   "outputs": [],
   "source": [
    "my_time = time()\n",
    "result, cut, parameters, extra, unrounded_solution, solution = solver.minimize(initial_parameters, method='SLSQP', bounds=bounds, tol=1e-03, constraints=cons,options={'maxiter': 1000000000})\n",
    "timing = time() - my_time"
   ],
   "metadata": {
    "collapsed": false,
    "pycharm": {
     "name": "#%%\n"
    }
   }
  },
  {
   "cell_type": "markdown",
   "source": [
    "Fix the type of the results, and load a row to the database."
   ],
   "metadata": {
    "collapsed": false,
    "pycharm": {
     "name": "#%% md\n"
    }
   }
  },
  {
   "cell_type": "code",
   "execution_count": 60,
   "outputs": [
    {
     "ename": "AttributeError",
     "evalue": "'str' object has no attribute 'tolist'",
     "output_type": "error",
     "traceback": [
      "\u001B[0;31m---------------------------------------------------------------------------\u001B[0m",
      "\u001B[0;31mAttributeError\u001B[0m                            Traceback (most recent call last)",
      "Input \u001B[0;32mIn [60]\u001B[0m, in \u001B[0;36m<cell line: 2>\u001B[0;34m()\u001B[0m\n\u001B[1;32m      1\u001B[0m epochs \u001B[38;5;241m=\u001B[39m extra[\u001B[38;5;124m'\u001B[39m\u001B[38;5;124mnfev\u001B[39m\u001B[38;5;124m'\u001B[39m]\n\u001B[0;32m----> 2\u001B[0m max_energy, min_energy, number_parameters, initial_parameters, parameters, unrounded_solution, solution \u001B[38;5;241m=\u001B[39m cut, \u001B[38;5;124m'\u001B[39m\u001B[38;5;124mNone\u001B[39m\u001B[38;5;124m'\u001B[39m, \u001B[38;5;28mlen\u001B[39m(initial_parameters), \u001B[38;5;28mstr\u001B[39m(\u001B[43minitial_parameters\u001B[49m\u001B[38;5;241;43m.\u001B[39;49m\u001B[43mtolist\u001B[49m()), \u001B[38;5;28mstr\u001B[39m(parameters\u001B[38;5;241m.\u001B[39mtolist()), \u001B[38;5;28mstr\u001B[39m(unrounded_solution), \u001B[38;5;28mstr\u001B[39m(solution)\n\u001B[1;32m      4\u001B[0m energy_ratio \u001B[38;5;241m=\u001B[39m (cut) \u001B[38;5;241m/\u001B[39m (result_exact[\u001B[38;5;241m0\u001B[39m][\u001B[38;5;241m0\u001B[39m])\n\u001B[1;32m      5\u001B[0m activation_function_name \u001B[38;5;241m=\u001B[39m \u001B[38;5;124m'\u001B[39m\u001B[38;5;124mtanh\u001B[39m\u001B[38;5;124m'\u001B[39m\n",
      "\u001B[0;31mAttributeError\u001B[0m: 'str' object has no attribute 'tolist'"
     ]
    }
   ],
   "source": [
    "epochs = extra['nfev']\n",
    "max_energy, min_energy, number_parameters, initial_parameters, parameters, unrounded_solution, solution = cut, 'None', len(initial_parameters), str(initial_parameters.tolist()), str(parameters.tolist()), str(unrounded_solution), str(solution)\n",
    "\n",
    "energy_ratio = (cut) / (result_exact[0][0])\n",
    "activation_function_name = 'tanh'\n",
    "instance = 'w09_100.0'\n",
    "row = {'kind': 'MqMBE', 'instance': str(instance), 'trial': 0, 'layer_number': layer,\n",
    "'nodes_number': nodes_number, 'optimization': 'SLSQP',\n",
    "'activation_function': str(activation_function_name),\n",
    "'compression': compression, 'pauli_string_length': pauli_string_length,\n",
    "'entanglement': entanglement,\n",
    "'graph_kind': 'Given', 'qubits': qubits, 'solution': solution,\n",
    "'unrounded_solution': unrounded_solution,\n",
    "'max_energy': max_energy, 'min_energy': min_energy, 'energy_ratio': energy_ratio,\n",
    "'initial_parameters': initial_parameters, 'parameters': parameters,\n",
    "'number_parameters': number_parameters, 'hyperparameter': str('(1,0.4)'),\n",
    "'epochs': epochs, 'time': timing}\n",
    "vq.datamanager.insert_value_table('Test', 'Test', row)"
   ],
   "metadata": {
    "collapsed": false,
    "pycharm": {
     "name": "#%%\n"
    }
   }
  }
 ],
 "metadata": {
  "kernelspec": {
   "display_name": "Python 3",
   "language": "python",
   "name": "python3"
  },
  "language_info": {
   "codemirror_mode": {
    "name": "ipython",
    "version": 2
   },
   "file_extension": ".py",
   "mimetype": "text/x-python",
   "name": "python",
   "nbconvert_exporter": "python",
   "pygments_lexer": "ipython2",
   "version": "2.7.6"
  }
 },
 "nbformat": 4,
 "nbformat_minor": 0
}